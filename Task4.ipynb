{
 "cells": [
  {
   "cell_type": "markdown",
   "id": "70f6f2c1",
   "metadata": {},
   "source": [
    "# TASK-4  Exploratory Data Analysis on Dataset - Terrorism "
   ]
  },
  {
   "cell_type": "code",
   "execution_count": 1,
   "id": "5ae4d76d",
   "metadata": {},
   "outputs": [],
   "source": [
    "import pandas as pd\n",
    "import numpy as np\n",
    "import matplotlib.pyplot as plt\n",
    "import seaborn as sns"
   ]
  },
  {
   "cell_type": "code",
   "execution_count": 2,
   "id": "300975c9",
   "metadata": {},
   "outputs": [],
   "source": [
    "import warnings\n",
    "warnings.filterwarnings('ignore')"
   ]
  },
  {
   "cell_type": "code",
   "execution_count": 3,
   "id": "e6a9d885",
   "metadata": {},
   "outputs": [
    {
     "name": "stdout",
     "output_type": "stream",
     "text": [
      "Requirement already satisfied: xlrd in c:\\users\\acer\\anaconda3\\lib\\site-packages (2.0.1)\n"
     ]
    }
   ],
   "source": [
    "!pip install xlrd"
   ]
  },
  {
   "cell_type": "code",
   "execution_count": null,
   "id": "5227f321",
   "metadata": {},
   "outputs": [],
   "source": [
    "tdata= pd.read_excel(r'C:\\Users\\Acer\\Desktop\\GLOBAL 1.xlsx')"
   ]
  },
  {
   "cell_type": "code",
   "execution_count": null,
   "id": "4d961def",
   "metadata": {},
   "outputs": [],
   "source": [
    "tdata.head()\n"
   ]
  },
  {
   "cell_type": "code",
   "execution_count": null,
   "id": "cfc50bde",
   "metadata": {},
   "outputs": [],
   "source": [
    "print(\"There are {} rows and {} columns in the dataset\".format(tdata.shape[0],tdata.shape[1]))"
   ]
  },
  {
   "cell_type": "code",
   "execution_count": null,
   "id": "fabb8a82",
   "metadata": {},
   "outputs": [],
   "source": [
    "tdata.columns.values"
   ]
  },
  {
   "cell_type": "code",
   "execution_count": null,
   "id": "4ba78bb5",
   "metadata": {},
   "outputs": [],
   "source": [
    "No_of_cols=tdata.columns.nunique()\n",
    "print(\"There are total %d columns in the data \"%No_of_cols)"
   ]
  },
  {
   "cell_type": "code",
   "execution_count": null,
   "id": "c5795e94",
   "metadata": {},
   "outputs": [],
   "source": [
    "tdata.rename(columns={'iyear':'Year','imonth':'Month','iday':\"day\",'gname':'Group','country_txt':'Country','region_txt':'Region','provstate':'State','city':'City','latitude':'latitude',\n",
    "    'longitude':'longitude','summary':'summary','attacktype1_txt':'Attacktype','targtype1_txt':'Targettype','weaptype1_txt':'Weapon','nkill':'kill',\n",
    "     'nwound':'Wound'},inplace=True)"
   ]
  },
  {
   "cell_type": "code",
   "execution_count": null,
   "id": "c18adcc8",
   "metadata": {},
   "outputs": [],
   "source": [
    "tdata = tdata[['Year','Month','day','Country','State','Region','City','latitude','longitude',\"Attacktype\",'kill',\n",
    "               'Wound','target1','summary','Group','Targettype','Weapon','motive']]"
   ]
  },
  {
   "cell_type": "code",
   "execution_count": null,
   "id": "6e635bdf",
   "metadata": {},
   "outputs": [],
   "source": [
    "tdata.head()"
   ]
  },
  {
   "cell_type": "code",
   "execution_count": null,
   "id": "97fafde3",
   "metadata": {},
   "outputs": [],
   "source": [
    "tdata.shape"
   ]
  },
  {
   "cell_type": "code",
   "execution_count": null,
   "id": "403b638e",
   "metadata": {},
   "outputs": [],
   "source": [
    "tdata.describe()"
   ]
  },
  {
   "cell_type": "code",
   "execution_count": null,
   "id": "e588070c",
   "metadata": {},
   "outputs": [],
   "source": [
    "tdata.isnull().sum()"
   ]
  },
  {
   "cell_type": "code",
   "execution_count": null,
   "id": "26eaf4e3",
   "metadata": {},
   "outputs": [],
   "source": [
    "tdata.head(10)"
   ]
  },
  {
   "cell_type": "code",
   "execution_count": null,
   "id": "5f9f8f58",
   "metadata": {},
   "outputs": [],
   "source": [
    "tdata.columns.unique()"
   ]
  },
  {
   "cell_type": "code",
   "execution_count": null,
   "id": "d582ea33",
   "metadata": {},
   "outputs": [],
   "source": [
    "tdata.columns.nunique()"
   ]
  },
  {
   "cell_type": "code",
   "execution_count": null,
   "id": "7e260867",
   "metadata": {},
   "outputs": [],
   "source": [
    "Total_countries=tdata[\"Country\"].nunique()\n",
    "print(\"Total %d countries were noted in the data \" %Total_countries)"
   ]
  },
  {
   "cell_type": "code",
   "execution_count": null,
   "id": "683867ff",
   "metadata": {},
   "outputs": [],
   "source": [
    "year = tdata['Year'].unique()\n",
    "years_count = tdata['Year'].value_counts(dropna= False).sort_index()\n",
    "plt.figure(figsize= (20,3))\n",
    "sns.barplot(x = year, y=years_count,palette = \"tab10\")\n",
    "plt.xticks(rotation = 50)\n",
    "plt.xlabel('Year', fontsize = 50)\n",
    "plt.ylabel('Number of Attack Each Year', fontsize=22)\n",
    "plt.title('Attack In Years' , fontsize=30)\n",
    "plt.show()"
   ]
  },
  {
   "cell_type": "code",
   "execution_count": null,
   "id": "085ca191",
   "metadata": {},
   "outputs": [],
   "source": [
    "pd.crosstab(tdata.Year,tdata.Region).plot(kind='area',stacked=False,figsize=(20,20))\n",
    "plt.title('Terrorist Activities By Region In Each Year',fontsize=25)\n",
    "plt.ylabel('Number of Attacks',fontsize=20)\n",
    "plt.xlabel(\"Year\",fontsize=20)\n",
    "plt.show()"
   ]
  },
  {
   "cell_type": "code",
   "execution_count": null,
   "id": "77c7e0e4",
   "metadata": {},
   "outputs": [],
   "source": [
    "plt.subplots(figsize=(20,10))\n",
    "sns.barplot(tdata['Country'].value_counts()[:10].index,tdata['Country'].value_counts()[:10].values,palette='YlOrBr_r')\n",
    "plt.title('Top10 Countries Affected By Terrorism',fontsize=25)\n",
    "plt.xlabel('Country',fontsize=20)\n",
    "plt.ylabel('Count',fontsize=20)\n",
    "plt.xticks(rotation=50)\n",
    "plt.show()"
   ]
  },
  {
   "cell_type": "code",
   "execution_count": null,
   "id": "fd869245",
   "metadata": {},
   "outputs": [],
   "source": [
    "df=tdata[['Year','kill']].groupby(['Year']).sum()\n",
    "fig,ax4= plt.subplots(figsize=(20,10))\n",
    "df.plot(kind='bar',alpha=0.7, ax=ax4)\n",
    "plt.xticks(rotation=50)\n",
    "plt.title(\"Deaths from Terrorism\",fontsize=25)\n",
    "plt.ylabel(\"Deaths\",fontsize=20)\n",
    "plt.xlabel('Year',fontsize=20)\n",
    "top_side=ax4.spines[\"top\"]\n",
    "top_side.set_visible( False)\n",
    "right_side=ax4.spines[\"right\"]\n",
    "right_side.set_visible(False)"
   ]
  },
  {
   "cell_type": "code",
   "execution_count": null,
   "id": "d5888d57",
   "metadata": {},
   "outputs": [],
   "source": [
    "tdata['City'].value_counts().to_frame().sort_values('City',axis=0,ascending=False).head(10).plot(kind='bar',figsize=(20,10))\n",
    "plt.xticks(rotation=50)\n",
    "plt.xlabel(\"City\",fontsize=20)\n",
    "plt.ylabel(\"NumberOf Attacks\",fontsize=20)\n",
    "plt.title(\"Top 10 Cities Affected By Terrorism\",fontsize=25)\n",
    "plt.show()"
   ]
  },
  {
   "cell_type": "code",
   "execution_count": null,
   "id": "6447f553",
   "metadata": {},
   "outputs": [],
   "source": [
    "tdata['city'].value_counts().to_frame().sort_values('city',axis=0,ascending=False).head(10).plot(kind='bar',figsize=(20,10),color='blue')\n",
    "plt.xticks(rotation = 50)\n",
    "plt.xlabel(\"city\",fontsize=15)\n",
    "plt.ylabel(\"Number of attack\",fontsize=15)\n",
    "plt.title(\"Top 10 most effected city\",fontsize=20)\n",
    "plt.show()"
   ]
  },
  {
   "cell_type": "code",
   "execution_count": null,
   "id": "d3bc42c2",
   "metadata": {},
   "outputs": [],
   "source": [
    "tdata[\"Attacktype\"].value_counts().plot(kind='bar',figsize=(20,10),color='magenta')\n",
    "plt.xticks(rotation = 50)\n",
    "plt.xlabel(\"attacktype\",fontsize=15)\n",
    "plt.ylabel(\"Number of attack\",fontsize=15)\n",
    "plt.title(\"Name of attacktype\",fontsize=20)\n",
    "plt.show()"
   ]
  },
  {
   "cell_type": "code",
   "execution_count": null,
   "id": "dcd525dd",
   "metadata": {},
   "outputs": [],
   "source": [
    "tdata[['Attacktype','Wound']].groupby([\"Attacktype\"],axis=0).sum().plot(kind='bar',figsize=(20,10),color=['cyan'])\n",
    "plt.xticks(rotation=50)\n",
    "plt.title(\"Number of wounded  \",fontsize=20)\n",
    "plt.ylabel('Number of people',fontsize=15)\n",
    "plt.xlabel('Attack type',fontsize=15)\n",
    "plt.show()"
   ]
  },
  {
   "cell_type": "code",
   "execution_count": null,
   "id": "908625c9",
   "metadata": {},
   "outputs": [],
   "source": [
    "plt.subplots(figsize=(20,10))\n",
    "sns.countplot(tdata[\"Targettype\"],order=tdata['Targettype'].value_counts().index,palette=\"gist_heat\",edgecolor=sns.color_palette(\"mako\"));\n",
    "plt.xticks(rotation=90)\n",
    "plt.xlabel(\"Attacktype\",fontsize=15)\n",
    "plt.ylabel(\"count\",fontsize=15)\n",
    "plt.title(\"Attack per year\",fontsize=20)\n",
    "plt.show()"
   ]
  },
  {
   "cell_type": "code",
   "execution_count": null,
   "id": "ec86fced",
   "metadata": {},
   "outputs": [],
   "source": [
    "tdata['Group'].value_counts().to_frame().drop('Unknown').head(10).plot(kind='bar',color='green',figsize=(20,10))\n",
    "plt.title(\"Top 10 terrorist group attack\",fontsize=20)\n",
    "plt.xlabel(\"terrorist group name\",fontsize=15)\n",
    "plt.ylabel(\"Attack number\",fontsize=15)\n",
    "plt.show()"
   ]
  },
  {
   "cell_type": "code",
   "execution_count": null,
   "id": "e3e46b1c",
   "metadata": {},
   "outputs": [],
   "source": [
    "tdata[['Group','kill']].groupby(['Group'],axis=0).sum().drop('Unknown').sort_values('kill',ascending=False).head(10).plot(kind='bar',color='yellow',figsize=(20,10))\n",
    "plt.title(\"Top 10 terrorist group attack\",fontsize=20)\n",
    "plt.xlabel(\"terrorist group name\",fontsize=15)\n",
    "plt.ylabel(\"No of killed people\",fontsize=15)\n",
    "plt.show()"
   ]
  },
  {
   "cell_type": "code",
   "execution_count": null,
   "id": "577959be",
   "metadata": {},
   "outputs": [],
   "source": [
    "df=tdata[['Group','Country','kill']]\n",
    "df=df.groupby(['Group','Country'],axis=0).sum().sort_values('kill',ascending=False).drop('Unknown').reset_index().head(10)\n",
    "df"
   ]
  },
  {
   "cell_type": "code",
   "execution_count": null,
   "id": "8b8c8400",
   "metadata": {},
   "outputs": [],
   "source": [
    "kill = tdata.loc[:,'kill']\n",
    "print('Number of people killed by terror attack:', int(sum(kill.dropna())))"
   ]
  },
  {
   "cell_type": "code",
   "execution_count": null,
   "id": "1fdbadb5",
   "metadata": {},
   "outputs": [],
   "source": [
    "typeKill = tdata.pivot_table(columns='Attacktype', values='kill', aggfunc='sum')\n",
    "typeKill"
   ]
  },
  {
   "cell_type": "code",
   "execution_count": null,
   "id": "6a6a5d0a",
   "metadata": {},
   "outputs": [],
   "source": [
    "countryKill = tdata.pivot_table(columns='Country', values='kill', aggfunc='sum')\n",
    "countryKill"
   ]
  },
  {
   "cell_type": "markdown",
   "id": "ce1ee2ed",
   "metadata": {},
   "source": [
    "# Conclusion and Results :\n",
    "\n",
    "Country with the most attacks: Iraq\n",
    "\n",
    "City with the most attacks: Baghdad\n",
    "\n",
    "Region with the most attacks: Middle East & North Africa\n",
    "\n",
    "Year with the most attacks: 2014\n",
    "\n",
    "Month with the most attacks: 5\n",
    "\n",
    "Group with the most attacks: Taliban\n",
    "\n",
    "Most Attack Types: Bombing/Explosion\n",
    "\n",
    "Thank You!"
   ]
  },
  {
   "cell_type": "code",
   "execution_count": null,
   "id": "071c04d7",
   "metadata": {},
   "outputs": [],
   "source": []
  },
  {
   "cell_type": "code",
   "execution_count": null,
   "id": "2a8bea34",
   "metadata": {},
   "outputs": [],
   "source": [
    "Thank You"
   ]
  }
 ],
 "metadata": {
  "kernelspec": {
   "display_name": "Python 3 (ipykernel)",
   "language": "python",
   "name": "python3"
  },
  "language_info": {
   "codemirror_mode": {
    "name": "ipython",
    "version": 3
   },
   "file_extension": ".py",
   "mimetype": "text/x-python",
   "name": "python",
   "nbconvert_exporter": "python",
   "pygments_lexer": "ipython3",
   "version": "3.9.12"
  }
 },
 "nbformat": 4,
 "nbformat_minor": 5
}
